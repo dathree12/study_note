{
 "cells": [
  {
   "cell_type": "code",
   "execution_count": null,
   "metadata": {},
   "outputs": [],
   "source": [
    "import shutil\n",
    "import glob\n",
    "\n",
    "svs_list = glob.glob('/workspace/res_ds/ganglion_data/CIPO_infer_result_PM/*')\n",
    "for case in svs_list :\n",
    "    file_name = case.split('/')[-1]\n",
    "    org_path = '/workspace/res_ds/ganglion_data/CIPO_WSI'\n",
    "    mv_path = '/workspace/res_ds/ganglion_data/CIPO_infer_result_PM'\n",
    "\n",
    "    shutil.copy(f'{org_path}/{file_name}/{file_name}_HE1.svs',f'{mv_path}/{file_name}/{file_name}_HE1.svs')"
   ]
  }
 ],
 "metadata": {
  "kernelspec": {
   "display_name": "Python 3.8.0 64-bit",
   "language": "python",
   "name": "python3"
  },
  "language_info": {
   "name": "python",
   "version": "3.8.0"
  },
  "orig_nbformat": 4,
  "vscode": {
   "interpreter": {
    "hash": "31f2aee4e71d21fbe5cf8b01ff0e069b9275f58929596ceb00d14d90e3e16cd6"
   }
  }
 },
 "nbformat": 4,
 "nbformat_minor": 2
}
