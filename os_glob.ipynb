{
 "cells": [
  {
   "cell_type": "markdown",
   "metadata": {},
   "source": [
    "Glob 정리\n",
    "1. glob.glob(pathname,x,recursive=False)\n",
    "   - recursive가 True일 때, \"**\"패턴은 모든 하위 디렉토리까지 탐색\n",
    "2. glob.iglob(pathname, *, recursive=False)\n",
    "   - 경로 기준 하위 디렉토리주소 추출\n",
    "3. glob.escape(pathname)\n",
    "   - 특수 문자를 이스케이프 함"
   ]
  },
  {
   "cell_type": "markdown",
   "metadata": {},
   "source": [
    "파일 path 리스트 얻기\n",
    "1. glob.glob(path)        : 유닉스 경로명 패턴 스타일로 파일 path 리스트 얻을 수 있다.\n",
    "2. os.listdir(path)       : path 디렉토리의 전체 파일리스트를 얻을 수 있다.\n",
    "3. dircahce.listdir(path) : os.listdir(path)와 동일한 파일리스트를 얻을 수 있다. \n",
    "                            but, path가 변경되지 않았을때, 다시 디렉토리 구조 읽지 않고, 이미 읽은 정보를 활용\n",
    "4. dircache.annotate(head, list) : 일반 파일명과 디렉토리명을 구분해 주는 함수\n",
    "\n",
    "\n",
    "경로 분리\n",
    "1. os.path.basename(filename)   :  파일명만 추출\n",
    "2. os.path.dirname(filename)    :  디렉토리 경로 추출\n",
    "3. os.path.split(filename)      :  경로와 파일명을 분리\n",
    "4. os.path.splitdrive(filename) :  드라이브명과 나머지 분리 (MS Windows의 경우)\n",
    "5. os.path.splitext(filename)   :  확장자와 나머지 분리"
   ]
  },
  {
   "cell_type": "code",
   "execution_count": null,
   "metadata": {},
   "outputs": [],
   "source": [
    "import os\n",
    "import shutil\n",
    "for path_ in sm_list : \n",
    "    xml_path = path_.replace('svs','xml')\n",
    "    svs_mv_path = os.path.join(path_.split('.')[0],path_.split('/')[-1])\n",
    "    xml_mv_path = os.path.join(path_.split('.')[0],xml_path.split('/')[-1])\n",
    "    shutil.move(path_, svs_mv_path)\n",
    "    shutil.move(xml_path, xml_mv_path)"
   ]
  }
 ],
 "metadata": {
  "kernelspec": {
   "display_name": "Python 3.6.9 64-bit",
   "language": "python",
   "name": "python3"
  },
  "language_info": {
   "name": "python",
   "version": "3.6.9"
  },
  "orig_nbformat": 4,
  "vscode": {
   "interpreter": {
    "hash": "31f2aee4e71d21fbe5cf8b01ff0e069b9275f58929596ceb00d14d90e3e16cd6"
   }
  }
 },
 "nbformat": 4,
 "nbformat_minor": 2
}
